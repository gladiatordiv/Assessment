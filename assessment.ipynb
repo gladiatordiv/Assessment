{
 "cells": [
  {
   "cell_type": "code",
   "execution_count": 3,
   "id": "b63dc823",
   "metadata": {},
   "outputs": [
    {
     "name": "stdout",
     "output_type": "stream",
     "text": [
      "[10, 6, 5, 2]\n"
     ]
    }
   ],
   "source": [
    "def find(arr):\n",
    "    leaders=[]\n",
    "    n = len(arr)\n",
    "    max_=arr[n-1]\n",
    "    leaders.append(max_)\n",
    "    \n",
    "    for i in range(n-2,-1,-1):\n",
    "        if arr[i]>max_:\n",
    "            leaders.append(arr[i])\n",
    "            max_ =arr[i]\n",
    "    \n",
    "    leaders.reverse()\n",
    "    return leaders\n",
    "arr =[7, 10, 4, 10, 6, 5, 2]\n",
    "result =find(arr)\n",
    "print(result)"
   ]
  },
  {
   "cell_type": "code",
   "execution_count": 6,
   "id": "54cb9869",
   "metadata": {},
   "outputs": [
    {
     "name": "stdout",
     "output_type": "stream",
     "text": [
      "5\n"
     ]
    }
   ],
   "source": [
    "def maxProfit(prices):\n",
    "    left = 0 \n",
    "    right = 1 \n",
    "    max_profit = 0\n",
    "    while right < len(prices):\n",
    "        currentProfit = prices[right] - prices[left] \n",
    "        if prices[left] < prices[right]:\n",
    "            max_profit =max(currentProfit,max_profit)\n",
    "        else:\n",
    "            left = right\n",
    "        right += 1\n",
    "    return max_profit\n",
    "prices = [7, 1, 5, 3, 6, 4]\n",
    "result = maxProfit(prices)\n",
    "print(result)\n"
   ]
  },
  {
   "cell_type": "code",
   "execution_count": 11,
   "id": "86fb331b",
   "metadata": {},
   "outputs": [
    {
     "name": "stdout",
     "output_type": "stream",
     "text": [
      "6\n"
     ]
    }
   ],
   "source": [
    "def XORSum(nums):\n",
    "    total=0\n",
    "    subsets=[]\n",
    "    Subsets(nums, 0, [], subsets)\n",
    "    for subset in subsets:\n",
    "        xor_total = 0\n",
    "        for num in subset:\n",
    "            xor_total ^= num\n",
    "        total += xor_total\n",
    "    return total\n",
    "def Subsets(nums, index, current, subsets):\n",
    "    if index == len(nums):\n",
    "        subsets.append(current[:])\n",
    "        return\n",
    "    Subsets(nums, index + 1, current, subsets)\n",
    "    current.append(nums[index])\n",
    "    Subsets(nums, index + 1, current, subsets)\n",
    "    current.pop()\n",
    "nums = [1, 3]\n",
    "result = XORSum(nums)\n",
    "print(result)"
   ]
  },
  {
   "cell_type": "code",
   "execution_count": null,
   "id": "1d219637",
   "metadata": {},
   "outputs": [],
   "source": []
  }
 ],
 "metadata": {
  "kernelspec": {
   "display_name": "Python 3 (ipykernel)",
   "language": "python",
   "name": "python3"
  },
  "language_info": {
   "codemirror_mode": {
    "name": "ipython",
    "version": 3
   },
   "file_extension": ".py",
   "mimetype": "text/x-python",
   "name": "python",
   "nbconvert_exporter": "python",
   "pygments_lexer": "ipython3",
   "version": "3.9.13"
  }
 },
 "nbformat": 4,
 "nbformat_minor": 5
}
